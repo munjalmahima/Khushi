{
  "nbformat": 4,
  "nbformat_minor": 0,
  "metadata": {
    "colab": {
      "name": "Khushi_Output.ipynb",
      "provenance": [],
      "collapsed_sections": []
    },
    "kernelspec": {
      "name": "python391jvsc74a57bd063fd5069d213b44bf678585dea6b12cceca9941eaf7f819626cde1f2670de90d",
      "display_name": "Python 3.9.1 64-bit"
    },
    "language_info": {
      "name": "python",
      "version": "3.9.1-final"
    },
    "metadata": {
      "interpreter": {
        "hash": "63fd5069d213b44bf678585dea6b12cceca9941eaf7f819626cde1f2670de90d"
      }
    }
  },
  "cells": [
    {
      "cell_type": "code",
      "metadata": {
        "colab": {
          "base_uri": "https://localhost:8080/"
        },
        "id": "DWEgO_s_Jz4w",
        "outputId": "713f62b0-231d-4cfe-fa7a-9cd72e1ae571"
      },
      "source": [
        "import nltk\n",
        "nltk.download('stopwords')\n",
        "nltk.download('punkt')"
      ],
      "execution_count": 15,
      "outputs": [
        {
          "output_type": "stream",
          "name": "stderr",
          "text": [
            "[nltk_data] Downloading package stopwords to\n[nltk_data]     C:\\Users\\mahimamunjal\\AppData\\Roaming\\nltk_data...\n[nltk_data]   Package stopwords is already up-to-date!\n[nltk_data] Downloading package punkt to\n[nltk_data]     C:\\Users\\mahimamunjal\\AppData\\Roaming\\nltk_data...\n[nltk_data]   Package punkt is already up-to-date!\n"
          ]
        },
        {
          "output_type": "execute_result",
          "data": {
            "text/plain": [
              "True"
            ]
          },
          "metadata": {},
          "execution_count": 15
        }
      ]
    },
    {
      "cell_type": "code",
      "metadata": {
        "id": "jGBYekqWKGtp"
      },
      "source": [
        "from nltk.corpus import stopwords \n",
        "from nltk.tokenize import word_tokenize "
      ],
      "execution_count": 18,
      "outputs": []
    },
    {
      "cell_type": "code",
      "metadata": {
        "colab": {
          "base_uri": "https://localhost:8080/",
          "height": 1000
        },
        "id": "NYTkr_6CKfII",
        "outputId": "dea4a824-2a3a-4d47-9e2b-1c9ab648228a"
      },
      "source": [
        "import pandas as pd\n",
        "df = pd.read_excel('Dataset.xlsx')\n",
        "df"
      ],
      "execution_count": 19,
      "outputs": [
        {
          "output_type": "execute_result",
          "data": {
            "text/plain": [
              "                  User Input  \\\n",
              "0               hello khushi   \n",
              "1                how are you   \n",
              "2              feeling happy   \n",
              "3                      happy   \n",
              "4               got a+ grade   \n",
              "5              got bad grade   \n",
              "6                got a grade   \n",
              "7               cleared test   \n",
              "8               passed exams   \n",
              "9               got selected   \n",
              "10           won competition   \n",
              "11         said yes proposal   \n",
              "12               failed exam   \n",
              "13                   failure   \n",
              "14                      fail   \n",
              "15                     loser   \n",
              "16                  broke up   \n",
              "17                  break up   \n",
              "18                   suicide   \n",
              "19               want to die   \n",
              "20                   fought    \n",
              "21                     fight   \n",
              "22                      died   \n",
              "23       won the competition   \n",
              "24                    winner   \n",
              "25                   winning   \n",
              "26                i love you   \n",
              "27                i miss you   \n",
              "28                i miss her   \n",
              "29                i miss him   \n",
              "30                I hate her   \n",
              "31                I hate him   \n",
              "32           nobody loves me   \n",
              "33                    am ill   \n",
              "34                    is ill   \n",
              "35                what to do   \n",
              "36                  thankyou   \n",
              "37                       sad   \n",
              "38                 not happy   \n",
              "39         will you be my gf   \n",
              "40                       cry   \n",
              "41                    crying   \n",
              "42                      weep   \n",
              "43                   weeping   \n",
              "44  will you be my girfriend   \n",
              "\n",
              "                                        Khushi Output  Emotion  \n",
              "0                                           Hi Friend  Neutral  \n",
              "1                                 I am fine thankyou.  Neutral  \n",
              "2   woah nice. any good news you wanna share with ...    Happy  \n",
              "3   woah nice. any good news you wanna share with ...    Happy  \n",
              "4           congratulations. I am very happy for you.    Happy  \n",
              "5   Ohh. Don't worry.You wil, perform better next ...      Sad  \n",
              "6           congratulations. I am very happy for you.    Happy  \n",
              "7           congratulations. I am very happy for you.    Happy  \n",
              "8           congratulations. I am very happy for you.    Happy  \n",
              "9           congratulations. I am very happy for you.    Happy  \n",
              "10          congratulations. I am very happy for you.    Happy  \n",
              "11          congratulations. I am very happy for you.    Happy  \n",
              "12  Ohh. Don't worry. I am here to listen to you. ...      Sad  \n",
              "13                          You will excel next time.      Sad  \n",
              "14                          You will excel next time.      Sad  \n",
              "15          Don't say so. Everything will be alright.      Sad  \n",
              "16  Someone somewhere is meant for you. Wait for t...      Sad  \n",
              "17  Someone somewhere is meant for you. Wait for t...      Sad  \n",
              "18  Why are you saying so ? Chill.Tell me what hap...      Sad  \n",
              "19  Why are you saying so ? Chill.Tell me what hap...      Sad  \n",
              "20     Have some patience. Try to control your anger.      Sad  \n",
              "21     Have some patience. Try to control your anger.      Sad  \n",
              "22  Maybe your closed one is in a better place rig...      Sad  \n",
              "23  Congratulations. Your hard work finally paid off.    Happy  \n",
              "24  Congratulations. Your hard work finally paid off.    Happy  \n",
              "25  Congratulations. Your hard work finally paid off.    Happy  \n",
              "26                               Aww. I love you too.    Happy  \n",
              "27                          I am always here for you.    Happy  \n",
              "28                            You should talk to her.      Sad  \n",
              "29                            You should talk to him.      Sad  \n",
              "30  Hate is such a strong emotion. Maybe you just ...      Sad  \n",
              "31  Hate is such a strong emotion. Maybe you just ...      Sad  \n",
              "32                         I love you my dear friend.      Sad  \n",
              "33  Take proper care of yourself. I am always here...      Sad  \n",
              "34               Take proper care of your loved ones.      Sad  \n",
              "35     You should sleep for sometime to feel relaxed.  Neutral  \n",
              "36                   Dosti main no sorry no thankyou.    Happy  \n",
              "37                          What makes you feel sad ?      NaN  \n",
              "38                          What makes you feel sad ?      Sad  \n",
              "39                  Ofcourse. I will always love you.    Happy  \n",
              "40  Okay. Cry it out to vent out emotions. I am al...      Sad  \n",
              "41  Okay. Cry it out to vent out emotions. I am al...      Sad  \n",
              "42  Okay. Cry it out to vent out emotions. I am al...      Sad  \n",
              "43  Okay. Cry it out to vent out emotions. I am al...      Sad  \n",
              "44                  Ofcourse. I will always love you.    Happy  "
            ],
            "text/html": "<div>\n<style scoped>\n    .dataframe tbody tr th:only-of-type {\n        vertical-align: middle;\n    }\n\n    .dataframe tbody tr th {\n        vertical-align: top;\n    }\n\n    .dataframe thead th {\n        text-align: right;\n    }\n</style>\n<table border=\"1\" class=\"dataframe\">\n  <thead>\n    <tr style=\"text-align: right;\">\n      <th></th>\n      <th>User Input</th>\n      <th>Khushi Output</th>\n      <th>Emotion</th>\n    </tr>\n  </thead>\n  <tbody>\n    <tr>\n      <th>0</th>\n      <td>hello khushi</td>\n      <td>Hi Friend</td>\n      <td>Neutral</td>\n    </tr>\n    <tr>\n      <th>1</th>\n      <td>how are you</td>\n      <td>I am fine thankyou.</td>\n      <td>Neutral</td>\n    </tr>\n    <tr>\n      <th>2</th>\n      <td>feeling happy</td>\n      <td>woah nice. any good news you wanna share with ...</td>\n      <td>Happy</td>\n    </tr>\n    <tr>\n      <th>3</th>\n      <td>happy</td>\n      <td>woah nice. any good news you wanna share with ...</td>\n      <td>Happy</td>\n    </tr>\n    <tr>\n      <th>4</th>\n      <td>got a+ grade</td>\n      <td>congratulations. I am very happy for you.</td>\n      <td>Happy</td>\n    </tr>\n    <tr>\n      <th>5</th>\n      <td>got bad grade</td>\n      <td>Ohh. Don't worry.You wil, perform better next ...</td>\n      <td>Sad</td>\n    </tr>\n    <tr>\n      <th>6</th>\n      <td>got a grade</td>\n      <td>congratulations. I am very happy for you.</td>\n      <td>Happy</td>\n    </tr>\n    <tr>\n      <th>7</th>\n      <td>cleared test</td>\n      <td>congratulations. I am very happy for you.</td>\n      <td>Happy</td>\n    </tr>\n    <tr>\n      <th>8</th>\n      <td>passed exams</td>\n      <td>congratulations. I am very happy for you.</td>\n      <td>Happy</td>\n    </tr>\n    <tr>\n      <th>9</th>\n      <td>got selected</td>\n      <td>congratulations. I am very happy for you.</td>\n      <td>Happy</td>\n    </tr>\n    <tr>\n      <th>10</th>\n      <td>won competition</td>\n      <td>congratulations. I am very happy for you.</td>\n      <td>Happy</td>\n    </tr>\n    <tr>\n      <th>11</th>\n      <td>said yes proposal</td>\n      <td>congratulations. I am very happy for you.</td>\n      <td>Happy</td>\n    </tr>\n    <tr>\n      <th>12</th>\n      <td>failed exam</td>\n      <td>Ohh. Don't worry. I am here to listen to you. ...</td>\n      <td>Sad</td>\n    </tr>\n    <tr>\n      <th>13</th>\n      <td>failure</td>\n      <td>You will excel next time.</td>\n      <td>Sad</td>\n    </tr>\n    <tr>\n      <th>14</th>\n      <td>fail</td>\n      <td>You will excel next time.</td>\n      <td>Sad</td>\n    </tr>\n    <tr>\n      <th>15</th>\n      <td>loser</td>\n      <td>Don't say so. Everything will be alright.</td>\n      <td>Sad</td>\n    </tr>\n    <tr>\n      <th>16</th>\n      <td>broke up</td>\n      <td>Someone somewhere is meant for you. Wait for t...</td>\n      <td>Sad</td>\n    </tr>\n    <tr>\n      <th>17</th>\n      <td>break up</td>\n      <td>Someone somewhere is meant for you. Wait for t...</td>\n      <td>Sad</td>\n    </tr>\n    <tr>\n      <th>18</th>\n      <td>suicide</td>\n      <td>Why are you saying so ? Chill.Tell me what hap...</td>\n      <td>Sad</td>\n    </tr>\n    <tr>\n      <th>19</th>\n      <td>want to die</td>\n      <td>Why are you saying so ? Chill.Tell me what hap...</td>\n      <td>Sad</td>\n    </tr>\n    <tr>\n      <th>20</th>\n      <td>fought</td>\n      <td>Have some patience. Try to control your anger.</td>\n      <td>Sad</td>\n    </tr>\n    <tr>\n      <th>21</th>\n      <td>fight</td>\n      <td>Have some patience. Try to control your anger.</td>\n      <td>Sad</td>\n    </tr>\n    <tr>\n      <th>22</th>\n      <td>died</td>\n      <td>Maybe your closed one is in a better place rig...</td>\n      <td>Sad</td>\n    </tr>\n    <tr>\n      <th>23</th>\n      <td>won the competition</td>\n      <td>Congratulations. Your hard work finally paid off.</td>\n      <td>Happy</td>\n    </tr>\n    <tr>\n      <th>24</th>\n      <td>winner</td>\n      <td>Congratulations. Your hard work finally paid off.</td>\n      <td>Happy</td>\n    </tr>\n    <tr>\n      <th>25</th>\n      <td>winning</td>\n      <td>Congratulations. Your hard work finally paid off.</td>\n      <td>Happy</td>\n    </tr>\n    <tr>\n      <th>26</th>\n      <td>i love you</td>\n      <td>Aww. I love you too.</td>\n      <td>Happy</td>\n    </tr>\n    <tr>\n      <th>27</th>\n      <td>i miss you</td>\n      <td>I am always here for you.</td>\n      <td>Happy</td>\n    </tr>\n    <tr>\n      <th>28</th>\n      <td>i miss her</td>\n      <td>You should talk to her.</td>\n      <td>Sad</td>\n    </tr>\n    <tr>\n      <th>29</th>\n      <td>i miss him</td>\n      <td>You should talk to him.</td>\n      <td>Sad</td>\n    </tr>\n    <tr>\n      <th>30</th>\n      <td>I hate her</td>\n      <td>Hate is such a strong emotion. Maybe you just ...</td>\n      <td>Sad</td>\n    </tr>\n    <tr>\n      <th>31</th>\n      <td>I hate him</td>\n      <td>Hate is such a strong emotion. Maybe you just ...</td>\n      <td>Sad</td>\n    </tr>\n    <tr>\n      <th>32</th>\n      <td>nobody loves me</td>\n      <td>I love you my dear friend.</td>\n      <td>Sad</td>\n    </tr>\n    <tr>\n      <th>33</th>\n      <td>am ill</td>\n      <td>Take proper care of yourself. I am always here...</td>\n      <td>Sad</td>\n    </tr>\n    <tr>\n      <th>34</th>\n      <td>is ill</td>\n      <td>Take proper care of your loved ones.</td>\n      <td>Sad</td>\n    </tr>\n    <tr>\n      <th>35</th>\n      <td>what to do</td>\n      <td>You should sleep for sometime to feel relaxed.</td>\n      <td>Neutral</td>\n    </tr>\n    <tr>\n      <th>36</th>\n      <td>thankyou</td>\n      <td>Dosti main no sorry no thankyou.</td>\n      <td>Happy</td>\n    </tr>\n    <tr>\n      <th>37</th>\n      <td>sad</td>\n      <td>What makes you feel sad ?</td>\n      <td>NaN</td>\n    </tr>\n    <tr>\n      <th>38</th>\n      <td>not happy</td>\n      <td>What makes you feel sad ?</td>\n      <td>Sad</td>\n    </tr>\n    <tr>\n      <th>39</th>\n      <td>will you be my gf</td>\n      <td>Ofcourse. I will always love you.</td>\n      <td>Happy</td>\n    </tr>\n    <tr>\n      <th>40</th>\n      <td>cry</td>\n      <td>Okay. Cry it out to vent out emotions. I am al...</td>\n      <td>Sad</td>\n    </tr>\n    <tr>\n      <th>41</th>\n      <td>crying</td>\n      <td>Okay. Cry it out to vent out emotions. I am al...</td>\n      <td>Sad</td>\n    </tr>\n    <tr>\n      <th>42</th>\n      <td>weep</td>\n      <td>Okay. Cry it out to vent out emotions. I am al...</td>\n      <td>Sad</td>\n    </tr>\n    <tr>\n      <th>43</th>\n      <td>weeping</td>\n      <td>Okay. Cry it out to vent out emotions. I am al...</td>\n      <td>Sad</td>\n    </tr>\n    <tr>\n      <th>44</th>\n      <td>will you be my girfriend</td>\n      <td>Ofcourse. I will always love you.</td>\n      <td>Happy</td>\n    </tr>\n  </tbody>\n</table>\n</div>"
          },
          "metadata": {},
          "execution_count": 19
        }
      ]
    },
    {
      "cell_type": "code",
      "metadata": {
        "id": "Anr4Xj7HKmYK"
      },
      "source": [
        "import json\n",
        "d={}\n",
        "def Output(user_input):\n",
        "  user_input=user_input.lower()\n",
        "  user_input= re.sub(r'[^\\w\\s]', '',user_input)\n",
        "  user_input=user_input.strip()\n",
        "\n",
        "  stop_words = set(stopwords.words('english')) \n",
        "  ignore_words=['today','tomorrow','yesterday','last week','last saturday','very','keenly','keen','with','flying','colours','']\n",
        "  dont_ignore_words=['i love you','i miss you','i miss her','i miss him','i love him','i love her','i hate him','i hate her','nobody loves me','am ill','is ill','what to do','hello khushi','how are you','not happy','will you be my gf','will you be my girlfriend']\n",
        "  \n",
        "  if user_input not in dont_ignore_words:\n",
        "    word_tokens = word_tokenize(user_input) \n",
        "    filtered_sentence = [w for w in word_tokens if w not in stop_words and w not in ignore_words] \n",
        "    user_input=' '.join(map(str, filtered_sentence))\n",
        "  \n",
        "  for i in range(len(df)):\n",
        "      if df.loc[i, \"User Input\"]==user_input or str(df.loc[i, \"User Input\"]) in user_input:\n",
        "        d['Khushi']=df.loc[i, \"Khushi Output\"]\n",
        "        d['Emotion']=df.loc[i, \"Emotion\"]\n",
        "  json_object = json.dumps(d)  \n",
        "  return json.loads(json_object)"
      ],
      "execution_count": 7,
      "outputs": []
    },
    {
      "cell_type": "code",
      "metadata": {
        "colab": {
          "base_uri": "https://localhost:8080/"
        },
        "id": "3Dt3vOXBKXIt",
        "outputId": "e9fe502b-3eff-4c24-f016-7897441c2ead"
      },
      "source": [
        "Output('I love you.')"
      ],
      "execution_count": 8,
      "outputs": [
        {
          "output_type": "execute_result",
          "data": {
            "text/plain": [
              "{'Khushi': 'Aww. I love you too.', 'Emotion': 'Happy'}"
            ]
          },
          "metadata": {},
          "execution_count": 8
        }
      ]
    },
    {
      "cell_type": "code",
      "metadata": {
        "colab": {
          "base_uri": "https://localhost:8080/"
        },
        "id": "KUbsFi9QLJAD",
        "outputId": "8fad677d-dea4-4afc-908f-6bdb4b93483c"
      },
      "source": [
        "#!pip install flask-ngrok\n",
        "#!pip install flask_restful\n",
        "from flask import Flask,jsonify,request\n",
        "from flask_restful import Resource,Api\n"
      ],
      "execution_count": 11,
      "outputs": []
    },
    {
      "cell_type": "markdown",
      "metadata": {
        "id": "7XV3zUa7O7Zr"
      },
      "source": [
        "**CLICK ON THE LINK WITH THE EXTENSION ngrok.io to run the flask api (this link appears when you run the code cell below)**\n",
        "\n",
        "**1. Use the api /Name/string_input to retrieve output**\n",
        "\n",
        "\n",
        "\n",
        "**2. For eg:- /Name/I miss you**"
      ]
    },
    {
      "cell_type": "code",
      "metadata": {
        "colab": {
          "base_uri": "https://localhost:8080/"
        },
        "id": "meyJUHDrLZPM",
        "outputId": "85c15e27-57b5-419c-f1d1-fc358f315e0e"
      },
      "source": [
        "app = Flask(__name__)\n",
        "api=Api(app)\n",
        "@app.route(\"/\")\n",
        "def home():\n",
        "     return jsonify({\"about\":\"Welcome to Khushi App\"});\n",
        "name=''\n",
        "class Khushi(Resource):\n",
        "    def get(self,name):\n",
        "        return Output(name)\n",
        "\n",
        "api.add_resource(Khushi,'/Name/<string:name>')\n",
        "\n",
        "if __name__==\"__main__\":\n",
        "    app.run()"
      ],
      "execution_count": null,
      "outputs": []
    }
  ]
}